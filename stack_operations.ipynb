{
  "nbformat": 4,
  "nbformat_minor": 0,
  "metadata": {
    "colab": {
      "provenance": [],
      "authorship_tag": "ABX9TyNZ58r17TkNfvomT2LxSSh9",
      "include_colab_link": true
    },
    "kernelspec": {
      "name": "python3",
      "display_name": "Python 3"
    },
    "language_info": {
      "name": "python"
    }
  },
  "cells": [
    {
      "cell_type": "markdown",
      "metadata": {
        "id": "view-in-github",
        "colab_type": "text"
      },
      "source": [
        "<a href=\"https://colab.research.google.com/github/Devi2025Priya/codes/blob/main/stack_operations.ipynb\" target=\"_parent\"><img src=\"https://colab.research.google.com/assets/colab-badge.svg\" alt=\"Open In Colab\"/></a>"
      ]
    },
    {
      "cell_type": "code",
      "execution_count": null,
      "metadata": {
        "id": "L0Mw9eEUuls-"
      },
      "outputs": [],
      "source": [
        "def push(stack,item):\n",
        "  if len(stack)==n:\n",
        "    print(\"stack full\")\n",
        "  else:\n",
        "    stack.append(item)\n",
        "    print(\"Item is pushed into the stack\")\n",
        "def pop(stack):\n",
        "  if len(stack)==0:\n",
        "    return \"stack is Empty\"\n",
        "  return stack.pop()\n",
        "def stack_display(stack):\n",
        "  if len(stack)==0:\n",
        "    print\n"
      ]
    },
    {
      "cell_type": "code",
      "source": [
        "n=3\n",
        "top=-1\n",
        "stack=[None]*n\n",
        "def push(item):\n",
        "  global top\n",
        "  if top>=n-1:\n",
        "    print(\"Stack is full\")\n",
        "  else:\n",
        "    top =top+1\n",
        "    stack[top]=item\n",
        "    print(\"Item pushed into the stack\",item)\n",
        "def pop():\n",
        "  global top\n",
        "  if top ==-1:\n",
        "    return \"stack is empty\"\n",
        "  else:\n",
        "    item = stack[top]\n",
        "    print(\"removed from top\",item)\n",
        "    top=top-1\n",
        "def stack_display():\n",
        "  if top==-1:\n",
        "    print(\"stack is empty\")\n",
        "  else:\n",
        "    print(\"stack elements(top to bottom)\")\n",
        "    for i in range(top,-1,-1):\n",
        "      print(stack[i])\n",
        "stack_display()\n",
        "push(10)\n",
        "push(20)\n",
        "push(30)\n",
        "push(40)\n",
        "stack_display()\n",
        "pop()\n",
        "stack_display()\n",
        "pop()\n",
        "pop()\n",
        "pop()"
      ],
      "metadata": {
        "colab": {
          "base_uri": "https://localhost:8080/",
          "height": 296
        },
        "id": "GDXihT9nx_HH",
        "outputId": "9a39cf4d-2580-47d4-da4d-258220c0378b"
      },
      "execution_count": null,
      "outputs": [
        {
          "output_type": "stream",
          "name": "stdout",
          "text": [
            "stack is empty\n",
            "Item pushed into the stack 10\n",
            "Item pushed into the stack 20\n",
            "Item pushed into the stack 30\n",
            "Stack is full\n",
            "stack elements(top to bottom)\n",
            "30\n",
            "20\n",
            "10\n",
            "removed from top 30\n",
            "stack elements(top to bottom)\n",
            "20\n",
            "10\n",
            "removed from top 20\n",
            "removed from top 10\n"
          ]
        },
        {
          "output_type": "execute_result",
          "data": {
            "text/plain": [
              "'stack is empty'"
            ],
            "application/vnd.google.colaboratory.intrinsic+json": {
              "type": "string"
            }
          },
          "metadata": {},
          "execution_count": 5
        }
      ]
    }
  ]
}