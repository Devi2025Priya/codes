{
  "nbformat": 4,
  "nbformat_minor": 0,
  "metadata": {
    "colab": {
      "provenance": [],
      "authorship_tag": "ABX9TyPy1SplqY1B9ToDbIkd6TnA",
      "include_colab_link": true
    },
    "kernelspec": {
      "name": "python3",
      "display_name": "Python 3"
    },
    "language_info": {
      "name": "python"
    }
  },
  "cells": [
    {
      "cell_type": "markdown",
      "metadata": {
        "id": "view-in-github",
        "colab_type": "text"
      },
      "source": [
        "<a href=\"https://colab.research.google.com/github/Devi2025Priya/codes/blob/main/topological_and_kahns_sort.ipynb\" target=\"_parent\"><img src=\"https://colab.research.google.com/assets/colab-badge.svg\" alt=\"Open In Colab\"/></a>"
      ]
    },
    {
      "cell_type": "code",
      "source": [],
      "metadata": {
        "id": "jxDyxtJV9H37"
      },
      "execution_count": null,
      "outputs": []
    },
    {
      "cell_type": "code",
      "execution_count": null,
      "metadata": {
        "colab": {
          "base_uri": "https://localhost:8080/"
        },
        "id": "uxwfQVZwuMiV",
        "outputId": "7056cb8b-a597-4393-88bc-d49bd80b682f"
      },
      "outputs": [
        {
          "output_type": "stream",
          "name": "stdout",
          "text": [
            "Topological sorting of the graph 542310"
          ]
        }
      ],
      "source": [
        "def topologicalsortutil(v,adj,visited,stack):\n",
        "  visited[v]=True\n",
        "  for i in adj[v]:\n",
        "    if not visited[i]:\n",
        "      topologicalsortutil(i,adj,visited,stack)\n",
        "  stack.append(v)\n",
        "\n",
        "def topologicalsort(adj,V):\n",
        "  stack=[]\n",
        "  visited=[False]*V\n",
        "  for i in range(V):\n",
        "    if not visited[i]:\n",
        "      topologicalsortutil(i,adj,visited,stack)\n",
        "  print(\"Topological sorting of the graph\",end =\" \")\n",
        "  while stack:\n",
        "    print(stack.pop(),end=\"\")\n",
        "V=6\n",
        "edges=[(5,0),(4,0),(4,1),(3,1),(2,3),(5,2)]\n",
        "adj=[[] for _ in range(V)]\n",
        "for i in edges:\n",
        "  adj[i[0]].append(i[1])\n",
        "topologicalsort(adj,V)"
      ]
    },
    {
      "cell_type": "code",
      "source": [
        "def kahns_topological_sort(V,edges):\n",
        " adj=[[]for _ in range(V)]\n",
        " in_degree=[0]*V\n",
        " for u,v in edges:\n",
        "  adj[u].append(v)\n",
        "  in_degree[v]+=1\n",
        " queue=[i for i in range(V)if in_degree[i]==0]\n",
        " top_order=[]\n",
        " while queue:\n",
        "  u=queue.pop(0)\n",
        "  top_order.append(u)\n",
        "  for neighbor in adj[u]:\n",
        "   in_degree[neighbor]-=1\n",
        "   if in_degree[neighbor]==0:\n",
        "    queue.append(neighbor)\n",
        " if len(top_order)==V:\n",
        "  return top_order\n",
        " else:\n",
        "  return\"Graph has a cycle. Topological sort is not possible.\"\n",
        "\n",
        "V=6\n",
        "edges=[(5,2),(5,0),(4,0),(4,1),(2,3),(3,1)]\n",
        "result=kahns_topological_sort(V,edges)\n",
        "print(\"Topological Sort:\",result)\n"
      ],
      "metadata": {
        "colab": {
          "base_uri": "https://localhost:8080/"
        },
        "id": "7TrNAchqBO6U",
        "outputId": "79ebd5c8-2ec5-44f2-842c-494dd342e50a"
      },
      "execution_count": null,
      "outputs": [
        {
          "output_type": "stream",
          "name": "stdout",
          "text": [
            "Topological Sort: [4, 5, 2, 0, 3, 1]\n"
          ]
        }
      ]
    }
  ]
}