{
  "nbformat": 4,
  "nbformat_minor": 0,
  "metadata": {
    "colab": {
      "provenance": [],
      "authorship_tag": "ABX9TyM9kjxZLt0t1lPSU3jOBk0T",
      "include_colab_link": true
    },
    "kernelspec": {
      "name": "python3",
      "display_name": "Python 3"
    },
    "language_info": {
      "name": "python"
    }
  },
  "cells": [
    {
      "cell_type": "markdown",
      "metadata": {
        "id": "view-in-github",
        "colab_type": "text"
      },
      "source": [
        "<a href=\"https://colab.research.google.com/github/Devi2025Priya/codes/blob/main/Sortings.ipynb\" target=\"_parent\"><img src=\"https://colab.research.google.com/assets/colab-badge.svg\" alt=\"Open In Colab\"/></a>"
      ]
    },
    {
      "cell_type": "code",
      "execution_count": null,
      "metadata": {
        "colab": {
          "base_uri": "https://localhost:8080/"
        },
        "id": "C7Xmb9cxi0D3",
        "outputId": "759b9776-122b-4895-8b71-ebfb441ac758"
      },
      "outputs": [
        {
          "output_type": "stream",
          "name": "stdout",
          "text": [
            "[23, 66, 1, 2, 99, 100, 55]\n",
            "1\n",
            "[23, 1, 66, 2, 99, 100, 55]\n",
            "2\n",
            "[23, 1, 2, 66, 99, 100, 55]\n",
            "3\n",
            "[23, 1, 2, 66, 99, 100, 55]\n",
            "4\n",
            "[23, 1, 2, 66, 99, 100, 55]\n",
            "5\n",
            "[23, 1, 2, 66, 99, 55, 100]\n",
            "6\n",
            "[1, 23, 2, 66, 99, 55, 100]\n",
            "7\n",
            "[1, 2, 23, 66, 99, 55, 100]\n",
            "8\n",
            "[1, 2, 23, 66, 99, 55, 100]\n",
            "9\n",
            "[1, 2, 23, 66, 99, 55, 100]\n",
            "10\n",
            "[1, 2, 23, 66, 55, 99, 100]\n",
            "11\n",
            "[1, 2, 23, 66, 55, 99, 100]\n",
            "12\n",
            "[1, 2, 23, 66, 55, 99, 100]\n",
            "13\n",
            "[1, 2, 23, 66, 55, 99, 100]\n",
            "14\n",
            "[1, 2, 23, 55, 66, 99, 100]\n",
            "15\n",
            "[1, 2, 23, 55, 66, 99, 100]\n",
            "16\n",
            "[1, 2, 23, 55, 66, 99, 100]\n",
            "17\n",
            "[1, 2, 23, 55, 66, 99, 100]\n",
            "18\n",
            "[1, 2, 23, 55, 66, 99, 100]\n",
            "19\n",
            "[1, 2, 23, 55, 66, 99, 100]\n",
            "20\n",
            "[1, 2, 23, 55, 66, 99, 100]\n",
            "21\n"
          ]
        }
      ],
      "source": [
        "#bubble sort\n",
        "a=[23,66,1,2,99,100,55]\n",
        "count=0\n",
        "for i in range(len(a)):\n",
        "  for j in range(len(a)-1-i):\n",
        "    if a[j]>a[j+1]:\n",
        "      a[j],a[j+1]=a[j+1],a[j]\n",
        "    count=count+1\n",
        "    print(a)\n",
        "    print(count)"
      ]
    },
    {
      "cell_type": "code",
      "source": [
        "def sort(a):\n",
        "  for i in range(len(a)):\n",
        "    swapped=False\n",
        "    for j in range(len(a)-1-i):\n",
        "      if a[j]>a[j+1]:\n",
        "         a[j],a[j+1]=a[j+1],a[j]\n",
        "         swapped=True\n",
        "      if not swapped:\n",
        "        break\n",
        "    return a\n",
        "a=[23,66,1,2,99,100,55]\n",
        "sort(a)\n",
        "print(a)"
      ],
      "metadata": {
        "colab": {
          "base_uri": "https://localhost:8080/"
        },
        "id": "7f-1cDIqqu7U",
        "outputId": "3451fd67-7d2f-4015-f39b-ba3b9576d5bc"
      },
      "execution_count": null,
      "outputs": [
        {
          "output_type": "stream",
          "name": "stdout",
          "text": [
            "[23, 66, 1, 2, 99, 100, 55]\n"
          ]
        }
      ]
    },
    {
      "cell_type": "code",
      "source": [
        "#selection sort\n",
        "def selection_sort(a):\n",
        "    n = len(a)\n",
        "    for i in range(n-1):\n",
        "        min_index = i\n",
        "        for j in range(i+1, n):\n",
        "            if a[j] < a[min_index]:\n",
        "                min_index = j\n",
        "        a[i], a[min_index] = a[min_index], a[i]\n",
        "    return a\n",
        "\n",
        "a = [23, 66, 1, 2, 99, 100, 55]\n",
        "selection_sort(a)\n",
        "print(a)\n"
      ],
      "metadata": {
        "id": "1QLCH19erSUM",
        "colab": {
          "base_uri": "https://localhost:8080/"
        },
        "outputId": "a0047882-8543-4b34-8bed-013819fb134c"
      },
      "execution_count": null,
      "outputs": [
        {
          "output_type": "stream",
          "name": "stdout",
          "text": [
            "[1, 2, 23, 55, 66, 99, 100]\n"
          ]
        }
      ]
    },
    {
      "cell_type": "code",
      "source": [
        "def insertion_sort(a):\n",
        "    for i in range(1, len(a)):\n",
        "        key = a[i]\n",
        "        j = i - 1\n",
        "        while j >= 0 and a[j] > key:\n",
        "            a[j+1] = a[j]\n",
        "            j -= 1\n",
        "        a[j+1] = key\n",
        "    return a\n",
        "\n",
        "a = [23, 66, 1, 2, 99, 100, 55]\n",
        "insertion_sort(a)\n",
        "print(a)\n"
      ],
      "metadata": {
        "id": "G1LaRCV0rSgb",
        "colab": {
          "base_uri": "https://localhost:8080/"
        },
        "outputId": "012cdd65-0b51-43ea-c184-d0b5a10c24b6"
      },
      "execution_count": null,
      "outputs": [
        {
          "output_type": "stream",
          "name": "stdout",
          "text": [
            "[1, 2, 23, 55, 66, 99, 100]\n"
          ]
        }
      ]
    },
    {
      "cell_type": "code",
      "source": [
        "def merge_sort(a):\n",
        "    if len(a) > 1:\n",
        "        mid = len(a) // 2\n",
        "        L = a[:mid]\n",
        "        R = a[mid:]\n",
        "\n",
        "        merge_sort(L)\n",
        "        merge_sort(R)\n",
        "\n",
        "        i = j = k = 0\n",
        "        while i < len(L) and j < len(R):\n",
        "            if L[i] < R[j]:\n",
        "                a[k] = L[i]\n",
        "                i += 1\n",
        "            else:\n",
        "                a[k] = R[j]\n",
        "                j += 1\n",
        "            k += 1\n",
        "        while i < len(L):\n",
        "            a[k] = L[i]\n",
        "            i += 1\n",
        "            k += 1\n",
        "        while j < len(R):\n",
        "            a[k] = R[j]\n",
        "            j += 1\n",
        "            k += 1\n",
        "    return a\n",
        "\n",
        "a = [23, 66, 1, 2, 99, 100, 55]\n",
        "merge_sort(a)\n",
        "print(a)\n"
      ],
      "metadata": {
        "colab": {
          "base_uri": "https://localhost:8080/"
        },
        "id": "EGP12379rqUP",
        "outputId": "c6068a8b-d5a1-4592-8593-df111bac8ab2"
      },
      "execution_count": null,
      "outputs": [
        {
          "output_type": "stream",
          "name": "stdout",
          "text": [
            "[1, 2, 23, 55, 66, 99, 100]\n"
          ]
        }
      ]
    }
  ]
}