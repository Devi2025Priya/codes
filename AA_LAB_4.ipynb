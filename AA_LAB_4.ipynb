{
  "nbformat": 4,
  "nbformat_minor": 0,
  "metadata": {
    "colab": {
      "provenance": [],
      "authorship_tag": "ABX9TyNWE09bZHHb38D/dU4n/cX6",
      "include_colab_link": true
    },
    "kernelspec": {
      "name": "python3",
      "display_name": "Python 3"
    },
    "language_info": {
      "name": "python"
    }
  },
  "cells": [
    {
      "cell_type": "markdown",
      "metadata": {
        "id": "view-in-github",
        "colab_type": "text"
      },
      "source": [
        "<a href=\"https://colab.research.google.com/github/Devi2025Priya/codes/blob/main/AA_LAB_4.ipynb\" target=\"_parent\"><img src=\"https://colab.research.google.com/assets/colab-badge.svg\" alt=\"Open In Colab\"/></a>"
      ]
    },
    {
      "cell_type": "code",
      "execution_count": null,
      "metadata": {
        "colab": {
          "base_uri": "https://localhost:8080/"
        },
        "id": "q1zAJhtut7IN",
        "outputId": "7a3d8edf-cf75-47a7-f94a-05cd631b54c5"
      },
      "outputs": [
        {
          "output_type": "stream",
          "name": "stdout",
          "text": [
            "2\n",
            "2\n"
          ]
        }
      ],
      "source": [
        "from collections import deque\n",
        "\n",
        "def bfs(graph,start,target):\n",
        "  visited=set()\n",
        "  queue=deque([(start,0)])\n",
        "  while queue:\n",
        "    node,dist=queue.popleft()\n",
        "    if node == target:\n",
        "      return dist\n",
        "    if node not in visited:\n",
        "      visited.add(node)\n",
        "      for neighbor in graph[node]:\n",
        "        queue.append((neighbor,dist+1))\n",
        "  return -1\n",
        "\n",
        "graph={\n",
        "     \"A\":[\"B\",\"C\"],\n",
        "     \"B\":[\"D\",\"E\"],\n",
        "     \"C\":[\"F\"],\n",
        "     \"D\":[],\n",
        "     \"E\":[\"F\"],\n",
        "     \"F\":[]\n",
        "}\n",
        "\n",
        "print(bfs(graph,\"A\",\"F\"))\n",
        "print(bfs(graph,\"B\",\"F\"))"
      ]
    },
    {
      "cell_type": "code",
      "source": [
        "def dfs_path(graph,start, target,path=None, visited =None):\n",
        "  if visited is None:\n",
        "    visited= set()\n",
        "  if path is None:\n",
        "    path=[]\n",
        "  path.append(start)\n",
        "  visited.add(start)\n",
        "  if start == target:\n",
        "    return path\n",
        "  for neighbor in graph[start]:\n",
        "    if neighbor not in visited :\n",
        "      new_path=dfs_path(graph,neighbor,target,path,visited)\n",
        "      if new_path:\n",
        "        return new_path\n",
        "  path.pop()\n",
        "  return None\n",
        "graph={\n",
        "    'A':['B','C'],\n",
        "    'B':['D','E'],\n",
        "    'C':['F'],\n",
        "    'D':[],\n",
        "    'E':['F'],\n",
        "    'F':[]\n",
        "}\n",
        "print(dfs_path(graph,'A','F'))"
      ],
      "metadata": {
        "id": "etrkvFGx4A_6",
        "colab": {
          "base_uri": "https://localhost:8080/"
        },
        "outputId": "061e3c99-a804-4188-82ff-fa8147589885"
      },
      "execution_count": null,
      "outputs": [
        {
          "output_type": "stream",
          "name": "stdout",
          "text": [
            "['A', 'B', 'E', 'F']\n"
          ]
        }
      ]
    }
  ]
}